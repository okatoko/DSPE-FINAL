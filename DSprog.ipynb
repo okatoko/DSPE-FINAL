{
 "cells": [
  {
   "cell_type": "code",
   "execution_count": 65,
   "metadata": {},
   "outputs": [],
   "source": [
    "import requests\n",
    "from bs4 import BeautifulSoup\n",
    "from selenium import webdriver\n",
    "from selenium.webdriver.support.ui import Select\n",
    "from selenium.webdriver.common.by import By\n",
    "import time"
   ]
  },
  {
   "cell_type": "code",
   "execution_count": 66,
   "metadata": {},
   "outputs": [],
   "source": [
    "#アクセスしたいWebサイトのURL\n",
    "url = \"https://www.hellowork.mhlw.go.jp/\""
   ]
  },
  {
   "cell_type": "code",
   "execution_count": 67,
   "metadata": {},
   "outputs": [],
   "source": [
    "#リクエストを送信してHTMLを取得\n",
    "response = requests.get(url)\n",
    "response.encoding = response.apparent_encoding\n",
    "html = response.text"
   ]
  },
  {
   "cell_type": "code",
   "execution_count": 68,
   "metadata": {},
   "outputs": [],
   "source": [
    "# BeautifulSoupを使ってHTMLを解析\n",
    "soup = BeautifulSoup(html, \"html.parser\")"
   ]
  },
  {
   "cell_type": "code",
   "execution_count": 69,
   "metadata": {},
   "outputs": [
    {
     "name": "stdout",
     "output_type": "stream",
     "text": [
      "■一般事務補助（期間業務職員）／国土政策局　地方政策課 （ 220,400円〜270,000円 ） \n",
      "■一般事務（期間業務職員）（企画担当） （ 220,400円〜270,000円 ） \n",
      "■【秘書課】臨時事務補助職員（フルタイム）４月採用 （ 220,400円〜270,000円 ） \n",
      "■編集部員 （ 270,000円〜378,000円 ） \n",
      "■設備管理業務／千代田区麹町／未経験者歓迎 （ 240,000円〜240,000円 ） \n",
      "■運送会社向けＩＴツール開発（ＳＥ） （ 250,000円〜500,000円 ） \n",
      "■ＪＡＶＡ（ＳＥ）エンジニア （ 300,000円〜650,000円 ） \n",
      "■建築原価管理システム開発（ＳＥ） （ 250,000円〜500,000円 ） \n",
      "■テスト評価技術者 （ 200,000円〜260,000円 ） \n",
      "■ストレスチェックシステム開発（ＳＥ） （ 250,000円〜500,000円 ） \n",
      "■一般事務（期間業務職員）（総括担当） （ 250,000円〜500,000円 ） \n",
      "■車載機向けナビゲーション開発（ＳＥ） （ 250,000円〜500,000円 ） \n",
      "■医療関係システム開発（ＳＥ） （ 250,000円〜500,000円 ） \n",
      "■営業（広告）※一から丁寧に育成します （ 280,000円〜308,000円 ） \n",
      "■電子作業記録システム開発（ＳＥ） （ 250,000円〜500,000円 ） \n",
      "■顧客情報承認管理システム開発（ＳＥ） （ 250,000円〜500,000円 ） \n",
      "■工業用ミシン組込システム開発（ＳＥ） （ 250,000円〜500,000円 ） \n",
      "■政策調査員（非常勤）／消費者制度課 （ 1,826円〜3,008円 ） \n",
      "■経理職（中堅） （ 250,000円〜400,000円 ） \n",
      "■総務事務員【経験不問】 （ 220,000円〜250,000円 ） \n",
      "■営業（直行直帰）：首都圏、大阪、広島、福岡 （ 250,000円〜300,000円 ） \n",
      "■人材情報活用システム開発（ＳＥ） （ 250,000円〜500,000円 ） \n",
      "■サービス管理用アプリケーション開発（ＳＥ） （ 250,000円〜500,000円 ） \n",
      "■薬局物流システム開発（ＳＥ） （ 250,000円〜500,000円 ） \n",
      "■外資系生保向けシステム開発（ＳＥ） （ 250,000円〜500,000円 ） \n",
      "■営業職（管理職候補） （ 250,000円〜450,000円 ） \n",
      "■総務職（管理職候補） （ 250,000円〜400,000円 ） \n",
      "■清掃スタッフ（４ｈ）／千代田区神田小川町 （ 1,300円〜1,300円 ） \n",
      "■清掃スタッフ（４ｈ）／千代田区丸の内 （ 1,300円〜1,300円 ） \n",
      "\n"
     ]
    }
   ],
   "source": [
    "#東京都千代田区の求人情報を取得、表示\n",
    "driver = webdriver.Chrome()\n",
    "driver.get(url)\n",
    "time.sleep(1)\n",
    "\n",
    "driver.find_element(By.CLASS_NAME, \"retrieval_icn\").click()\n",
    "time.sleep(1)\n",
    "\n",
    "element = driver.find_element(By.ID, \"ID_tDFK1CmbBox\")\n",
    "Select(element).select_by_value(\"13\")\n",
    "time.sleep(1)\n",
    "\n",
    "driver.find_element(By.ID, \"ID_Btn\").click()\n",
    "time.sleep(1)\n",
    "\n",
    "element = driver.find_element(By.ID, \"ID_rank1CodeMulti\")\n",
    "Select(element).select_by_value(\"13101\")\n",
    "time.sleep(1)\n",
    "\n",
    "driver.find_element(By.ID, \"ID_ok\").click()\n",
    "time.sleep(1)\n",
    "\n",
    "driver.find_element(By.ID, \"ID_searchBtn\").click()\n",
    "time.sleep(1)\n",
    "\n",
    "soup = BeautifulSoup(driver.page_source, \"html.parser\")\n",
    "jobs = soup.find_all(\"table\", attrs={\"class\": \"kyujin\"})[1::]\n",
    "\n",
    "message = \"\"\n",
    "for i, job in enumerate(jobs):\n",
    "    job_name = str(job.find(\"td\", attrs={\"class\": \"m13\"}).text.strip())\n",
    "    salary_tags = job.find_all(\"tr\", attrs={\"class\": \"border_new\"})[5].select(\".disp_inline_block\")\n",
    "    for t, salary_tag in enumerate(salary_tags):\n",
    "        job_salary = salary_tag.text\n",
    "    message = message + \"■{0} （ {1} ） \\n\".format(job_name, job_salary)\n",
    "\n",
    "print(message)\n",
    "driver.close()"
   ]
  },
  {
   "cell_type": "code",
   "execution_count": 70,
   "metadata": {},
   "outputs": [
    {
     "name": "stdout",
     "output_type": "stream",
     "text": [
      "■機能訓練指導員／社ノ木デイサービスセンター （ 266,000円〜284,000円 ） \n",
      "■清掃スタッフ／門司区／パート （ 1,010円〜1,010円 ） \n",
      "■トレーラー運転手（北九州営業所） （ 388,800円〜388,800円 ） \n",
      "■総合職（土木技術サポーター）（正）／北九州市 （ 242,800円〜439,720円 ） \n",
      "■総合職（空調衛生設備技術サポーター）（正）／北九州市 （ 242,800円〜429,825円 ） \n",
      "■施工図作成スタッフ（正）／北九州市 （ 192,000円〜315,000円 ） \n",
      "■製造工場内作業員 （ 1,100円〜1,150円 ） \n",
      "■総務事務員／正社員　《急募》 （ 190,000円〜210,000円 ） \n",
      "■一般作業員／パート （ 1,000円〜1,000円 ） \n",
      "■その他の施設介護の職員 （ 1,200円〜1,250円 ） \n",
      "■販売員／海峡プラザ内《急募》 （ 1,100円〜1,100円 ） \n",
      "■受注・配車／正社員 （ 179,000円〜259,500円 ） \n",
      "■介護員／生活介護デイサービス （ 992円〜1,000円 ） \n",
      "■眼科ビル内の清掃 （ 1,250円〜1,250円 ） \n",
      "■パンの製造及び販売 （ 995円〜1,150円 ） \n",
      "■清掃スタッフ／パート（春日病院） （ 1,100円〜1,100円 ） \n",
      "■一般事務（北九州営業所／正社員）＜＜急募＞＞ （ 200,000円〜200,000円 ） \n",
      "■清掃工場での受付業務他／北九州市門司区新門司 （ 992円〜992円 ） \n",
      "■保育士（臨時的職員） （ 992円〜992円 ） \n",
      "■保育士（臨時的職員）／パート （ 1,450円〜1,450円 ） \n",
      "■資材倉庫作業員 （ 1,000円〜1,000円 ） \n",
      "■運転作業員／正社員 （ 172,800円〜259,200円 ） \n",
      "■作業員（正社員） （ 171,417円〜194,400円 ） \n",
      "■一般事務／正社員 （ 170,000円〜240,000円 ） \n",
      "■施設訪問介護士／兼業可／パート （ 1,000円〜2,300円 ） \n",
      "■洗車・移動スタッフ／門司区／正社員 （ 200,000円〜250,000円 ） \n",
      "■整備・一般作業員／正社員 （ 250,000円〜280,000円 ） \n",
      "■洗車・移動スタッフ／パート （ 1,000円〜1,200円 ） \n",
      "■看護師・准看護師／正社員 （ 250,000円〜310,000円 ） \n",
      "\n"
     ]
    }
   ],
   "source": [
    "#福岡県北九州市門司区の求人情報を取得、表示\n",
    "driver = webdriver.Chrome()\n",
    "driver.get(url)\n",
    "time.sleep(1)\n",
    "\n",
    "driver.find_element(By.CLASS_NAME, \"retrieval_icn\").click()\n",
    "time.sleep(1)\n",
    "\n",
    "element = driver.find_element(By.ID, \"ID_tDFK1CmbBox\")\n",
    "Select(element).select_by_value(\"40\")\n",
    "time.sleep(1)\n",
    "\n",
    "driver.find_element(By.ID, \"ID_Btn\").click()\n",
    "time.sleep(1)\n",
    "\n",
    "element = driver.find_element(By.ID, \"ID_rank1CodeMulti\")\n",
    "Select(element).select_by_value(\"40101\")\n",
    "time.sleep(1)\n",
    "\n",
    "driver.find_element(By.ID, \"ID_ok\").click()\n",
    "time.sleep(1)\n",
    "\n",
    "driver.find_element(By.ID, \"ID_searchBtn\").click()\n",
    "time.sleep(1)\n",
    "\n",
    "soup = BeautifulSoup(driver.page_source, \"html.parser\")\n",
    "jobs = soup.find_all(\"table\", attrs={\"class\": \"kyujin\"})[1::]\n",
    "\n",
    "message = \"\"\n",
    "for i, job in enumerate(jobs):\n",
    "    job_name = str(job.find(\"td\", attrs={\"class\": \"m13\"}).text.strip())\n",
    "    salary_tags = job.find_all(\"tr\", attrs={\"class\": \"border_new\"})[5].select(\".disp_inline_block\")\n",
    "    for t, salary_tag in enumerate(salary_tags):\n",
    "        job_salary = salary_tag.text\n",
    "    message = message + \"■{0} （ {1} ） \\n\".format(job_name, job_salary)\n",
    "\n",
    "print(message)\n",
    "driver.close()"
   ]
  }
 ],
 "metadata": {
  "kernelspec": {
   "display_name": "venv",
   "language": "python",
   "name": "python3"
  },
  "language_info": {
   "codemirror_mode": {
    "name": "ipython",
    "version": 3
   },
   "file_extension": ".py",
   "mimetype": "text/x-python",
   "name": "python",
   "nbconvert_exporter": "python",
   "pygments_lexer": "ipython3",
   "version": "3.9.6"
  }
 },
 "nbformat": 4,
 "nbformat_minor": 2
}
